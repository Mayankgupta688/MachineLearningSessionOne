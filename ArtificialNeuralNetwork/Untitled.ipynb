# -*- coding: utf-8 -*-
"""
Created on Fri May 22 15:16:24 2020

@author: Meha
"""

import numpy as np
import matplotlib.pyplot as plt
import pandas as pd 
import tensorflow as tf
print(tf.__version__)

# Importing the dataset
dataset = pd.read_csv('Churn_Modelling.csv')
X = dataset.iloc[:, 3:13].values
y = dataset.iloc[:, 13].values



from sklearn.preprocessing import LabelEncoder
labelEncoder = LabelEncoder()
X[:, 2] = labelEncoder.fit_transform(X[:, 2])


from sklearn.compose import ColumnTransformer
from sklearn.preprocessing import OneHotEncoder
ct = ColumnTransformer(transformers=[("encoder", OneHotEncoder(), [1])], remainder="passthrough")
X = np.array(ct.fit_transform(X))
print(X)
