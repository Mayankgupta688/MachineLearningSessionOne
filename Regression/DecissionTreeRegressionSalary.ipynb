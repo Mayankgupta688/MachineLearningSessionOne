{
 "cells": [
  {
   "cell_type": "code",
   "execution_count": 1,
   "metadata": {},
   "outputs": [],
   "source": [
    "import numpy as np\n",
    "import matplotlib.pyplot as plt\n",
    "import pandas as pd"
   ]
  },
  {
   "cell_type": "code",
   "execution_count": 2,
   "metadata": {},
   "outputs": [
    {
     "name": "stdout",
     "output_type": "stream",
     "text": [
      "    Investment  Salary\n",
      "0          100    1000\n",
      "1          500    3000\n",
      "2         1500    5000\n",
      "3         3500    8000\n",
      "4         5000    6500\n",
      "5         6000    7000\n",
      "6         8000   15000\n",
      "7         9500   20000\n",
      "8        12000   21000\n",
      "9        14000   25000\n",
      "10       15500   27000\n",
      "11       16500   30000\n",
      "12       25000   52000\n",
      "13       30000   80000\n"
     ]
    }
   ],
   "source": [
    "dataset = pd.read_csv(\"../data/Investment.csv\")\n",
    "print(dataset)"
   ]
  },
  {
   "cell_type": "code",
   "execution_count": 3,
   "metadata": {},
   "outputs": [
    {
     "name": "stdout",
     "output_type": "stream",
     "text": [
      "[[  100]\n",
      " [  500]\n",
      " [ 1500]\n",
      " [ 3500]\n",
      " [ 5000]\n",
      " [ 6000]\n",
      " [ 8000]\n",
      " [ 9500]\n",
      " [12000]\n",
      " [14000]\n",
      " [15500]\n",
      " [16500]\n",
      " [25000]\n",
      " [30000]]\n"
     ]
    }
   ],
   "source": [
    "X = dataset.iloc[:, 0].values\n",
    "X =X.reshape(-1, 1) \n",
    "  \n",
    "# print X \n",
    "print(X) "
   ]
  },
  {
   "cell_type": "code",
   "execution_count": 4,
   "metadata": {},
   "outputs": [
    {
     "name": "stdout",
     "output_type": "stream",
     "text": [
      "[[ 1000]\n",
      " [ 3000]\n",
      " [ 5000]\n",
      " [ 8000]\n",
      " [ 6500]\n",
      " [ 7000]\n",
      " [15000]\n",
      " [20000]\n",
      " [21000]\n",
      " [25000]\n",
      " [27000]\n",
      " [30000]\n",
      " [52000]\n",
      " [80000]]\n"
     ]
    }
   ],
   "source": [
    "y = dataset.iloc[:, 1].values\n",
    "y = y.reshape(-1, 1)\n",
    "  \n",
    "# print y \n",
    "print(y) "
   ]
  },
  {
   "cell_type": "code",
   "execution_count": 5,
   "metadata": {},
   "outputs": [
    {
     "name": "stdout",
     "output_type": "stream",
     "text": [
      "Predicted price:  8000\n",
      "\n"
     ]
    }
   ],
   "source": [
    "from sklearn.tree import DecisionTreeRegressor  \n",
    "  \n",
    "# create a regressor object \n",
    "regressor = DecisionTreeRegressor(random_state = 0)  \n",
    "  \n",
    "# fit the regressor with X and Y data \n",
    "regressor.fit(X, y) \n",
    "\n",
    "y_pred = regressor.predict([[3750]]) \n",
    "  \n",
    "# print the predicted price \n",
    "print(\"Predicted price: % d\\n\"% y_pred) "
   ]
  },
  {
   "cell_type": "code",
   "execution_count": 6,
   "metadata": {},
   "outputs": [],
   "source": [
    "# import export_graphviz \n",
    "from sklearn.tree import export_graphviz  \n",
    "  \n",
    "# export the decision tree to a tree.dot file \n",
    "# for visualizing the plot easily anywhere \n",
    "export_graphviz(regressor, out_file ='./output/tree.dot', \n",
    "               feature_names =['Production Cost'])  "
   ]
  },
  {
   "cell_type": "code",
   "execution_count": null,
   "metadata": {},
   "outputs": [],
   "source": []
  }
 ],
 "metadata": {
  "kernelspec": {
   "display_name": "Python 3",
   "language": "python",
   "name": "python3"
  },
  "language_info": {
   "codemirror_mode": {
    "name": "ipython",
    "version": 3
   },
   "file_extension": ".py",
   "mimetype": "text/x-python",
   "name": "python",
   "nbconvert_exporter": "python",
   "pygments_lexer": "ipython3",
   "version": "3.7.6"
  }
 },
 "nbformat": 4,
 "nbformat_minor": 4
}
