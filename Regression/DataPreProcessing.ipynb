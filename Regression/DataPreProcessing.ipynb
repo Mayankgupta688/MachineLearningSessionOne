{
 "cells": [
  {
   "cell_type": "code",
   "execution_count": 35,
   "metadata": {},
   "outputs": [],
   "source": [
    "%config IPCompleter.greedy=True"
   ]
  },
  {
   "cell_type": "markdown",
   "metadata": {},
   "source": [
    "# Adding Libraries..."
   ]
  },
  {
   "cell_type": "code",
   "execution_count": 1,
   "metadata": {},
   "outputs": [],
   "source": [
    "import numpy as np\n",
    "import matplotlib.pyplot as plt\n",
    "import pandas as pd"
   ]
  },
  {
   "cell_type": "markdown",
   "metadata": {},
   "source": [
    "# Getting Datasets"
   ]
  },
  {
   "cell_type": "code",
   "execution_count": 3,
   "metadata": {},
   "outputs": [
    {
     "name": "stdout",
     "output_type": "stream",
     "text": [
      "  Location   Age   Salary Bonus Offered\n",
      "0    Delhi  44.0  72000.0            No\n",
      "1   Mumbai  27.0  48000.0           Yes\n",
      "2   Mumbai  30.0  54000.0            No\n",
      "3    Delhi  38.0  61000.0            No\n",
      "4  Chennai  40.0      NaN           Yes\n",
      "5   Mumbai  35.0  58000.0           Yes\n",
      "6  Chennai   NaN  52000.0            No\n",
      "7   Mumbai  48.0  79000.0           Yes\n",
      "8    Delhi  50.0  83000.0            No\n",
      "9   Mumbai  37.0  67000.0           Yes\n"
     ]
    }
   ],
   "source": [
    "dataset = pd.read_csv(\"../data/FirstDataset.csv\")\n",
    "print(dataset)"
   ]
  },
  {
   "cell_type": "code",
   "execution_count": 4,
   "metadata": {},
   "outputs": [
    {
     "name": "stdout",
     "output_type": "stream",
     "text": [
      "[['Delhi' 44.0 72000.0]\n",
      " ['Mumbai' 27.0 48000.0]\n",
      " ['Mumbai' 30.0 54000.0]\n",
      " ['Delhi' 38.0 61000.0]\n",
      " ['Chennai' 40.0 nan]\n",
      " ['Mumbai' 35.0 58000.0]\n",
      " ['Chennai' nan 52000.0]\n",
      " ['Mumbai' 48.0 79000.0]\n",
      " ['Delhi' 50.0 83000.0]\n",
      " ['Mumbai' 37.0 67000.0]]\n"
     ]
    }
   ],
   "source": [
    "X = dataset.iloc[:, :-1].values\n",
    "print(X)"
   ]
  },
  {
   "cell_type": "code",
   "execution_count": 5,
   "metadata": {},
   "outputs": [
    {
     "name": "stdout",
     "output_type": "stream",
     "text": [
      "['No' 'Yes' 'No' 'No' 'Yes' 'Yes' 'No' 'Yes' 'No' 'Yes']\n"
     ]
    }
   ],
   "source": [
    "y = dataset.iloc[:, 3].values\n",
    "print(y)"
   ]
  },
  {
   "cell_type": "code",
   "execution_count": 6,
   "metadata": {},
   "outputs": [
    {
     "name": "stdout",
     "output_type": "stream",
     "text": [
      "[['Delhi' 44.0 72000.0]\n",
      " ['Mumbai' 27.0 48000.0]\n",
      " ['Mumbai' 30.0 54000.0]\n",
      " ['Delhi' 38.0 61000.0]\n",
      " ['Chennai' 40.0 63777.77777777778]\n",
      " ['Mumbai' 35.0 58000.0]\n",
      " ['Chennai' 38.77777777777778 52000.0]\n",
      " ['Mumbai' 48.0 79000.0]\n",
      " ['Delhi' 50.0 83000.0]\n",
      " ['Mumbai' 37.0 67000.0]]\n"
     ]
    }
   ],
   "source": [
    "from sklearn.impute import SimpleImputer\n",
    "imputer = SimpleImputer(missing_values=np.nan, strategy='mean')\n",
    "imputer.fit(X[:, 1:3])\n",
    "X[:, 1:3] = imputer.transform(X[:, 1:3])\n",
    "print(X)"
   ]
  },
  {
   "cell_type": "code",
   "execution_count": 7,
   "metadata": {},
   "outputs": [
    {
     "name": "stdout",
     "output_type": "stream",
     "text": [
      "  Location   Age   Salary Bonus Offered\n",
      "0    Delhi  44.0  72000.0            No\n",
      "1   Mumbai  27.0  48000.0           Yes\n",
      "2   Mumbai  30.0  54000.0            No\n",
      "3    Delhi  38.0  61000.0            No\n",
      "5   Mumbai  35.0  58000.0           Yes\n",
      "7   Mumbai  48.0  79000.0           Yes\n",
      "8    Delhi  50.0  83000.0            No\n",
      "9   Mumbai  37.0  67000.0           Yes\n"
     ]
    }
   ],
   "source": [
    "dataset = dataset.dropna()\n",
    "print(dataset)"
   ]
  },
  {
   "cell_type": "code",
   "execution_count": 26,
   "metadata": {},
   "outputs": [
    {
     "name": "stdout",
     "output_type": "stream",
     "text": [
      "  Location   Age   Salary Bonus Offered\n",
      "0    Delhi  44.0  72000.0            No\n",
      "1   Mumbai  27.0  48000.0           Yes\n",
      "2   Mumbai  30.0  54000.0            No\n",
      "3    Delhi  38.0  61000.0            No\n",
      "4  Chennai  40.0      NaN           Yes\n",
      "5   Mumbai  35.0  58000.0           Yes\n",
      "6  Chennai   NaN  52000.0            No\n",
      "7   Mumbai  48.0  79000.0           Yes\n",
      "8    Delhi  50.0  83000.0            No\n",
      "9   Mumbai  37.0  67000.0           Yes\n"
     ]
    }
   ],
   "source": [
    "dataset = dataset.replace(0, np.nan)\n",
    "print(dataset)"
   ]
  },
  {
   "cell_type": "code",
   "execution_count": 30,
   "metadata": {},
   "outputs": [
    {
     "name": "stdout",
     "output_type": "stream",
     "text": [
      "  Location   Age   Salary Bonus Offered\n",
      "0    Delhi  44.0  72000.0            No\n",
      "1   Mumbai  27.0  48000.0           Yes\n",
      "2   Mumbai  30.0  54000.0            No\n",
      "3    Delhi  38.0  61000.0            No\n",
      "4  Chennai  40.0      NaN           Yes\n",
      "5   Mumbai  35.0  58000.0           Yes\n",
      "7   Mumbai  48.0  79000.0           Yes\n",
      "8    Delhi  50.0  83000.0            No\n",
      "9   Mumbai  37.0  67000.0           Yes\n"
     ]
    }
   ],
   "source": [
    "print(dataset.dropna(how=\"any\", subset=[\"Age\"]))"
   ]
  },
  {
   "cell_type": "code",
   "execution_count": 8,
   "metadata": {},
   "outputs": [
    {
     "name": "stdout",
     "output_type": "stream",
     "text": [
      "10\n"
     ]
    }
   ],
   "source": [
    "print(np.size(dataset, 0))"
   ]
  },
  {
   "cell_type": "code",
   "execution_count": 9,
   "metadata": {},
   "outputs": [
    {
     "name": "stdout",
     "output_type": "stream",
     "text": [
      "4\n"
     ]
    }
   ],
   "source": [
    "print(np.size(dataset, 1))"
   ]
  },
  {
   "cell_type": "code",
   "execution_count": 33,
   "metadata": {},
   "outputs": [
    {
     "data": {
      "text/plain": [
       "array([['Delhi', 44.0, 72000.0],\n",
       "       ['Mumbai', 27.0, 48000.0],\n",
       "       ['Mumbai', 30.0, 54000.0],\n",
       "       ['Delhi', 38.0, 61000.0],\n",
       "       ['Chennai', 40.0, nan],\n",
       "       ['Mumbai', 35.0, 58000.0],\n",
       "       ['Chennai', nan, 52000.0],\n",
       "       ['Mumbai', 48.0, 79000.0],\n",
       "       ['Delhi', 50.0, 83000.0],\n",
       "       ['Mumbai', 37.0, 67000.0]], dtype=object)"
      ]
     },
     "execution_count": 33,
     "metadata": {},
     "output_type": "execute_result"
    }
   ],
   "source": [
    "dataset.iloc[:, :np.size(dataset, 1) -1].values"
   ]
  },
  {
   "cell_type": "code",
   "execution_count": 34,
   "metadata": {},
   "outputs": [
    {
     "name": "stdout",
     "output_type": "stream",
     "text": [
      "[0 1 0 0 1 1 0 1 0 1]\n"
     ]
    }
   ],
   "source": [
    "from sklearn.preprocessing import LabelEncoder\n",
    "labelEncoder = LabelEncoder()\n",
    "y = labelEncoder.fit_transform(y)\n",
    "print(y)"
   ]
  },
  {
   "cell_type": "code",
   "execution_count": 36,
   "metadata": {},
   "outputs": [
    {
     "name": "stdout",
     "output_type": "stream",
     "text": [
      "[[0.0 1.0 0.0 44.0 72000.0]\n",
      " [0.0 0.0 1.0 27.0 48000.0]\n",
      " [0.0 0.0 1.0 30.0 54000.0]\n",
      " [0.0 1.0 0.0 38.0 61000.0]\n",
      " [1.0 0.0 0.0 40.0 nan]\n",
      " [0.0 0.0 1.0 35.0 58000.0]\n",
      " [1.0 0.0 0.0 nan 52000.0]\n",
      " [0.0 0.0 1.0 48.0 79000.0]\n",
      " [0.0 1.0 0.0 50.0 83000.0]\n",
      " [0.0 0.0 1.0 37.0 67000.0]]\n"
     ]
    }
   ],
   "source": [
    "from sklearn.compose import ColumnTransformer\n",
    "from sklearn.preprocessing import OneHotEncoder\n",
    "ct = ColumnTransformer(transformers=[(\"encoder\", OneHotEncoder(), [0])], remainder=\"passthrough\")\n",
    "X = np.array(ct.fit_transform(X))\n",
    "print(X)"
   ]
  },
  {
   "cell_type": "code",
   "execution_count": 38,
   "metadata": {},
   "outputs": [
    {
     "name": "stdout",
     "output_type": "stream",
     "text": [
      "[[0.         1.         0.         0.73913043 0.68571429]\n",
      " [0.         0.         1.         0.         0.        ]\n",
      " [0.         0.         1.         0.13043478 0.17142857]\n",
      " [0.         1.         0.         0.47826087 0.37142857]\n",
      " [1.         0.         0.         0.56521739        nan]\n",
      " [0.         0.         1.         0.34782609 0.28571429]\n",
      " [1.         0.         0.                nan 0.11428571]\n",
      " [0.         0.         1.         0.91304348 0.88571429]\n",
      " [0.         1.         0.         1.         1.        ]\n",
      " [0.         0.         1.         0.43478261 0.54285714]]\n"
     ]
    }
   ],
   "source": [
    "from sklearn.preprocessing import MinMaxScaler\n",
    "norm = MinMaxScaler()\n",
    "X = norm.fit_transform(X)\n",
    "print(X)\n"
   ]
  },
  {
   "cell_type": "code",
   "execution_count": 44,
   "metadata": {},
   "outputs": [
    {
     "name": "stdout",
     "output_type": "stream",
     "text": [
      "[[1.         0.         0.         0.56521739        nan]\n",
      " [0.         0.         1.         0.43478261 0.54285714]\n",
      " [0.         0.         1.         0.         0.        ]\n",
      " [1.         0.         0.                nan 0.11428571]\n",
      " [0.         0.         1.         0.91304348 0.88571429]\n",
      " [0.         1.         0.         0.47826087 0.37142857]\n",
      " [0.         1.         0.         0.73913043 0.68571429]\n",
      " [0.         0.         1.         0.34782609 0.28571429]]\n"
     ]
    }
   ],
   "source": [
    "from sklearn.model_selection import train_test_split\n",
    "X_train, X_test, y_train, y_test = train_test_split(X, y, test_size=0.2, random_state=0)\n",
    "print(X_train)"
   ]
  },
  {
   "cell_type": "code",
   "execution_count": 11,
   "metadata": {},
   "outputs": [
    {
     "name": "stdout",
     "output_type": "stream",
     "text": [
      "  Location Age Salary Bonus Offered\n",
      "0    Delhi  44  72000            No\n",
      "1   Mumbai  27  48000           Yes\n",
      "2   Mumbai  30  54000            No\n",
      "3    Delhi  38  61000            No\n",
      "4  Chennai  40      0           Yes\n",
      "5   Mumbai  35  58000           Yes\n",
      "6  Chennai   0  52000            No\n",
      "7   Mumbai  48  79000           Yes\n",
      "8    Delhi  50  83000            No\n",
      "9   Mumbai  37  67000           Yes\n"
     ]
    }
   ],
   "source": [
    "dataset = pd.read_csv(\"ContainsNil.csv\")\n",
    "dataset = dataset.replace(\"Nil\", 0)\n",
    "print(dataset)"
   ]
  },
  {
   "cell_type": "code",
   "execution_count": 7,
   "metadata": {},
   "outputs": [
    {
     "name": "stdout",
     "output_type": "stream",
     "text": [
      "[[1 44.0 72000.0]\n",
      " [2 27.0 48000.0]\n",
      " [2 30.0 54000.0]\n",
      " [1 38.0 61000.0]\n",
      " [0 40.0 nan]\n",
      " [2 35.0 58000.0]\n",
      " [0 nan 52000.0]\n",
      " [2 48.0 79000.0]\n",
      " [1 50.0 83000.0]\n",
      " [2 37.0 67000.0]]\n"
     ]
    }
   ],
   "source": [
    "print(X)"
   ]
  },
  {
   "cell_type": "code",
   "execution_count": null,
   "metadata": {},
   "outputs": [],
   "source": []
  },
  {
   "cell_type": "code",
   "execution_count": null,
   "metadata": {},
   "outputs": [],
   "source": []
  }
 ],
 "metadata": {
  "kernelspec": {
   "display_name": "Python 3",
   "language": "python",
   "name": "python3"
  },
  "language_info": {
   "codemirror_mode": {
    "name": "ipython",
    "version": 3
   },
   "file_extension": ".py",
   "mimetype": "text/x-python",
   "name": "python",
   "nbconvert_exporter": "python",
   "pygments_lexer": "ipython3",
   "version": "3.7.7"
  }
 },
 "nbformat": 4,
 "nbformat_minor": 4
}
